{
 "cells": [
  {
   "cell_type": "markdown",
   "metadata": {},
   "source": [
    "# A simple example or two with the catalog"
   ]
  },
  {
   "cell_type": "code",
   "execution_count": 9,
   "metadata": {},
   "outputs": [],
   "source": [
    "# import\n",
    "from astropy.coordinates import SkyCoord\n",
    "from astropy import units\n",
    "\n",
    "from pulsars import io as pio"
   ]
  },
  {
   "cell_type": "markdown",
   "metadata": {},
   "source": [
    "## Load"
   ]
  },
  {
   "cell_type": "code",
   "execution_count": 2,
   "metadata": {},
   "outputs": [
    {
     "name": "stdout",
     "output_type": "stream",
     "text": [
      "Loading up DMs from /home/xavier/Projects/pulsars/pulsars/data/atnf_cat/DM_cat_v1.56.dat\n",
      "Loading up Parallax data from /home/xavier/Projects/pulsars/pulsars/data/parallax/Plx_aug2018.dat\n"
     ]
    }
   ],
   "source": [
    "pulsars = pio.load_pulsars()"
   ]
  },
  {
   "cell_type": "code",
   "execution_count": 3,
   "metadata": {},
   "outputs": [
    {
     "data": {
      "text/html": [
       "<i>Table length=2508</i>\n",
       "<table id=\"table140510738995184\" class=\"table-striped table-bordered table-condensed\">\n",
       "<thead><tr><th>ID</th><th>PSRJ</th><th>Pref</th><th>RAJ</th><th>RAf</th><th>RAref</th><th>DECJ</th><th>DECf</th><th>DECref</th><th>P0</th><th>P0f</th><th>P0ref</th><th>DM</th><th>DMf</th><th>DMref</th><th>b</th><th>l</th><th>PI</th><th>PIm</th><th>PIp</th></tr></thead>\n",
       "<thead><tr><th>int64</th><th>str12</th><th>str7</th><th>str16</th><th>int64</th><th>str7</th><th>str16</th><th>int64</th><th>str7</th><th>float64</th><th>int64</th><th>str7</th><th>float64</th><th>int64</th><th>str7</th><th>float64</th><th>float64</th><th>float64</th><th>float64</th><th>float64</th></tr></thead>\n",
       "<tr><td>1</td><td>J0006+1834</td><td>cnt96</td><td>00:06:04.8</td><td>2</td><td>cn95</td><td>+18:34:59</td><td>4</td><td>cn95</td><td>0.69374767047</td><td>14</td><td>cn95</td><td>11.41</td><td>55</td><td>bkk+16</td><td>-42.984988356737965</td><td>108.1721357660874</td><td>0.0</td><td>0.0</td><td>0.0</td></tr>\n",
       "<tr><td>2</td><td>J0011+08</td><td>dsm+16</td><td>00:11:34</td><td>114</td><td>dsm+16</td><td>+08:10</td><td>8</td><td>dsm+16</td><td>2.55287</td><td>0</td><td>dsm+16</td><td>24.9</td><td>0</td><td>dsm+16</td><td>-53.40705009164144</td><td>106.22826909267506</td><td>0.0</td><td>0.0</td><td>0.0</td></tr>\n",
       "<tr><td>3</td><td>J0014+4746</td><td>dth78</td><td>00:14:17.75</td><td>4</td><td>hlk+04</td><td>+47:46:33.4</td><td>3</td><td>hlk+04</td><td>1.240699038946</td><td>11</td><td>hlk+04</td><td>30.405</td><td>13</td><td>bkk+16</td><td>-14.631218964700945</td><td>116.49729957476634</td><td>0.0</td><td>0.0</td><td>0.0</td></tr>\n",
       "<tr><td>4</td><td>J0023+0923</td><td>hrm+11</td><td>00:23:16.87910</td><td>3</td><td>mnf+16</td><td>+09:23:23.871</td><td>1</td><td>mnf+16</td><td>0.00305020310409707</td><td>3</td><td>abb+15</td><td>14.3283</td><td>5</td><td>abb+15</td><td>-52.84926080180663</td><td>111.38309145340911</td><td>0.0</td><td>0.0</td><td>0.0</td></tr>\n",
       "<tr><td>5</td><td>J0024-7204aa</td><td>phl+16</td><td>00:24:05.67</td><td>0</td><td>mam+06</td><td>-72:04:52.62</td><td>0</td><td>mam+06</td><td>0.00184</td><td>0</td><td>phl+16</td><td>24.971</td><td>7</td><td>phl+16</td><td>-44.8893324424184</td><td>305.89481032739803</td><td>0.0</td><td>0.0</td><td>0.0</td></tr>\n",
       "<tr><td>6</td><td>J0024-7204ab</td><td>phl+16</td><td>00:24:08.1657</td><td>4</td><td>phl+16</td><td>-72:04:47.616</td><td>2</td><td>phl+16</td><td>0.00370463955393907</td><td>20</td><td>phl+16</td><td>24.37</td><td>2</td><td>phl+16</td><td>-44.891184873625946</td><td>305.8906380595289</td><td>0.0</td><td>0.0</td><td>0.0</td></tr>\n",
       "<tr><td>7</td><td>J0024-7204C</td><td>mld+90</td><td>00:23:50.35311</td><td>9</td><td>fck+03</td><td>-72:04:31.4926</td><td>4</td><td>fck+03</td><td>0.0057567799955132</td><td>17</td><td>fck+03</td><td>24.599</td><td>2</td><td>fkl+01</td><td>-44.89218448378309</td><td>305.92346048752154</td><td>0.0</td><td>0.0</td><td>0.0</td></tr>\n",
       "<tr><td>8</td><td>J0024-7204D</td><td>mlr+91</td><td>00:24:13.87934</td><td>7</td><td>fck+03</td><td>-72:04:43.8405</td><td>3</td><td>fck+03</td><td>0.00535757328486266</td><td>18</td><td>fck+03</td><td>24.729</td><td>2</td><td>fkl+01</td><td>-44.89331369909026</td><td>305.88063401625107</td><td>0.0</td><td>0.0</td><td>0.0</td></tr>\n",
       "<tr><td>9</td><td>J0024-7204E</td><td>mlr+91</td><td>00:24:11.1036</td><td>1</td><td>fck+03</td><td>-72:05:20.1377</td><td>4</td><td>fck+03</td><td>0.00353632915276031</td><td>13</td><td>fck+03</td><td>24.23</td><td>2</td><td>fkl+01</td><td>-44.88281377970622</td><td>305.8834808070553</td><td>0.0</td><td>0.0</td><td>0.0</td></tr>\n",
       "<tr><td>10</td><td>J0024-7204F</td><td>mlr+91</td><td>00:24:03.8539</td><td>1</td><td>fck+03</td><td>-72:04:42.8065</td><td>5</td><td>fck+03</td><td>0.00262357935251098</td><td>14</td><td>fck+03</td><td>24.379</td><td>5</td><td>fkl+01</td><td>-44.891679405352505</td><td>305.8986354512318</td><td>0.0</td><td>0.0</td><td>0.0</td></tr>\n",
       "<tr><td>...</td><td>...</td><td>...</td><td>...</td><td>...</td><td>...</td><td>...</td><td>...</td><td>...</td><td>...</td><td>...</td><td>...</td><td>...</td><td>...</td><td>...</td><td>...</td><td>...</td><td>...</td><td>...</td><td>...</td></tr>\n",
       "<tr><td>2499</td><td>J2329+16</td><td>dsm+13</td><td>23:29:50</td><td>31</td><td>dsm+13</td><td>+16:57</td><td>8</td><td>dsm+13</td><td>0.6321</td><td>0</td><td>dsm+13</td><td>31.0</td><td>0</td><td>dsm+13</td><td>-41.68163145275677</td><td>96.41440566589691</td><td>0.0</td><td>0.0</td><td>0.0</td></tr>\n",
       "<tr><td>2500</td><td>J2330-2005</td><td>ll76</td><td>23:30:26.885</td><td>7</td><td>hlk+04</td><td>-20:05:29.63</td><td>17</td><td>hlk+04</td><td>1.643622185327</td><td>5</td><td>hlk+04</td><td>8.456</td><td>2</td><td>srb+15</td><td>-70.18961492949401</td><td>49.394484384304135</td><td>0.0</td><td>0.0</td><td>0.0</td></tr>\n",
       "<tr><td>2501</td><td>J2333+6145</td><td>bck+13</td><td>23:33:19.448</td><td>5</td><td>bck+13</td><td>+61:45:30.09</td><td>3</td><td>bck+13</td><td>0.756899382059</td><td>7</td><td>bck+13</td><td>125.0</td><td>0</td><td>bck+13</td><td>0.27469991231423313</td><td>113.83078636317975</td><td>0.0</td><td>0.0</td><td>0.0</td></tr>\n",
       "<tr><td>2502</td><td>J2337+6151</td><td>dtws85</td><td>23:37:05.762</td><td>10</td><td>ymw+10</td><td>+61:51:01.53</td><td>7</td><td>ymw+10</td><td>0.495369868028</td><td>5</td><td>ymw+10</td><td>58.41</td><td>15</td><td>hlk+04</td><td>0.23332296948844913</td><td>114.28385375164972</td><td>0.0</td><td>0.0</td><td>0.0</td></tr>\n",
       "<tr><td>2503</td><td>J2340+08</td><td>dsm+13</td><td>23:40:45</td><td>7</td><td>dsm+13</td><td>+08:33:00</td><td>100</td><td>dsm+13</td><td>0.3033</td><td>0</td><td>dsm+13</td><td>24.0</td><td>0</td><td>dsm+13</td><td>-50.42337516671849</td><td>94.82099385939975</td><td>0.0</td><td>0.0</td><td>0.0</td></tr>\n",
       "<tr><td>2504</td><td>J2343+6221</td><td>hrk+08</td><td>23:43</td><td>0</td><td>hrk+08</td><td>+62:21</td><td>0</td><td>hrk+08</td><td>1.799</td><td>0</td><td>hrk+08</td><td>117.0</td><td>0</td><td>hrk+08</td><td>0.5255358537829137</td><td>115.0845819245885</td><td>0.0</td><td>0.0</td><td>0.0</td></tr>\n",
       "<tr><td>2505</td><td>J2346-0609</td><td>mld+96</td><td>23:46:50.454</td><td>17</td><td>hlk+04</td><td>-06:09:59.5</td><td>6</td><td>hlk+04</td><td>1.181463382967</td><td>5</td><td>hlk+04</td><td>22.504</td><td>19</td><td>hlk+04</td><td>-64.01440842634236</td><td>83.79761093820291</td><td>0.275</td><td>-0.036</td><td>0.021</td></tr>\n",
       "<tr><td>2506</td><td>J2352+65</td><td>hrk+08</td><td>23:52</td><td>0</td><td>hrk+08</td><td>+65</td><td>0</td><td>hrk+08</td><td>1.164</td><td>0</td><td>hrk+08</td><td>152.0</td><td>0</td><td>hrk+08</td><td>2.8496323657836014</td><td>116.7022451772621</td><td>0.0</td><td>0.0</td><td>0.0</td></tr>\n",
       "<tr><td>2507</td><td>J2353+85</td><td>slr+14</td><td>23:54</td><td>7</td><td>slr+14</td><td>+85:34</td><td>8</td><td>slr+14</td><td>1.011691</td><td>37</td><td>slr+14</td><td>38.0</td><td>2</td><td>slr+14</td><td>22.828461881238397</td><td>121.74009984248616</td><td>0.0</td><td>0.0</td><td>0.0</td></tr>\n",
       "<tr><td>2508</td><td>J2354+6155</td><td>dbtb82</td><td>23:54:04.724</td><td>4</td><td>hlk+04</td><td>+61:55:46.79</td><td>2</td><td>hlk+04</td><td>0.944783886655</td><td>11</td><td>hlk+04</td><td>94.662</td><td>6</td><td>hlk+04</td><td>-0.1944580166622709</td><td>116.2392373709962</td><td>0.41</td><td>-0.04</td><td>0.03</td></tr>\n",
       "</table>"
      ],
      "text/plain": [
       "<Table length=2508>\n",
       "  ID      PSRJ      Pref       RAJ       ...    PI     PIm     PIp  \n",
       "int64    str12      str7      str16      ... float64 float64 float64\n",
       "----- ------------ ------ -------------- ... ------- ------- -------\n",
       "    1   J0006+1834  cnt96     00:06:04.8 ...     0.0     0.0     0.0\n",
       "    2     J0011+08 dsm+16       00:11:34 ...     0.0     0.0     0.0\n",
       "    3   J0014+4746  dth78    00:14:17.75 ...     0.0     0.0     0.0\n",
       "    4   J0023+0923 hrm+11 00:23:16.87910 ...     0.0     0.0     0.0\n",
       "    5 J0024-7204aa phl+16    00:24:05.67 ...     0.0     0.0     0.0\n",
       "    6 J0024-7204ab phl+16  00:24:08.1657 ...     0.0     0.0     0.0\n",
       "    7  J0024-7204C mld+90 00:23:50.35311 ...     0.0     0.0     0.0\n",
       "    8  J0024-7204D mlr+91 00:24:13.87934 ...     0.0     0.0     0.0\n",
       "    9  J0024-7204E mlr+91  00:24:11.1036 ...     0.0     0.0     0.0\n",
       "   10  J0024-7204F mlr+91  00:24:03.8539 ...     0.0     0.0     0.0\n",
       "  ...          ...    ...            ... ...     ...     ...     ...\n",
       " 2499     J2329+16 dsm+13       23:29:50 ...     0.0     0.0     0.0\n",
       " 2500   J2330-2005   ll76   23:30:26.885 ...     0.0     0.0     0.0\n",
       " 2501   J2333+6145 bck+13   23:33:19.448 ...     0.0     0.0     0.0\n",
       " 2502   J2337+6151 dtws85   23:37:05.762 ...     0.0     0.0     0.0\n",
       " 2503     J2340+08 dsm+13       23:40:45 ...     0.0     0.0     0.0\n",
       " 2504   J2343+6221 hrk+08          23:43 ...     0.0     0.0     0.0\n",
       " 2505   J2346-0609 mld+96   23:46:50.454 ...   0.275  -0.036   0.021\n",
       " 2506     J2352+65 hrk+08          23:52 ...     0.0     0.0     0.0\n",
       " 2507     J2353+85 slr+14          23:54 ...     0.0     0.0     0.0\n",
       " 2508   J2354+6155 dbtb82   23:54:04.724 ...    0.41   -0.04    0.03"
      ]
     },
     "execution_count": 3,
     "metadata": {},
     "output_type": "execute_result"
    }
   ],
   "source": [
    "pulsars"
   ]
  },
  {
   "cell_type": "markdown",
   "metadata": {},
   "source": [
    "## Pulsars with Parallax"
   ]
  },
  {
   "cell_type": "code",
   "execution_count": 5,
   "metadata": {},
   "outputs": [
    {
     "data": {
      "text/html": [
       "<i>Table length=134</i>\n",
       "<table id=\"table140510737744280\" class=\"table-striped table-bordered table-condensed\">\n",
       "<thead><tr><th>ID</th><th>PSRJ</th><th>Pref</th><th>RAJ</th><th>RAf</th><th>RAref</th><th>DECJ</th><th>DECf</th><th>DECref</th><th>P0</th><th>P0f</th><th>P0ref</th><th>DM</th><th>DMf</th><th>DMref</th><th>b</th><th>l</th><th>PI</th><th>PIm</th><th>PIp</th></tr></thead>\n",
       "<thead><tr><th>int64</th><th>str12</th><th>str7</th><th>str16</th><th>int64</th><th>str7</th><th>str16</th><th>int64</th><th>str7</th><th>float64</th><th>int64</th><th>str7</th><th>float64</th><th>int64</th><th>str7</th><th>float64</th><th>float64</th><th>float64</th><th>float64</th><th>float64</th></tr></thead>\n",
       "<tr><td>31</td><td>J0030+0451</td><td>lzb+00</td><td>00:30:27.42823</td><td>5</td><td>mnf+16</td><td>+04:51:39.7112</td><td>17</td><td>mnf+16</td><td>0.0048654532109097</td><td>8</td><td>abb+15</td><td>4.33252</td><td>4</td><td>srb+15</td><td>-57.611330015275485</td><td>113.141165002337</td><td>3.3</td><td>-0.9</td><td>0.9</td></tr>\n",
       "<tr><td>35</td><td>J0034-0721</td><td>lvw69a</td><td>00:34:08.8703</td><td>1</td><td>cbv+09</td><td>-07:21:53.409</td><td>2</td><td>cbv+09</td><td>0.9429509945598</td><td>17</td><td>hlk+04</td><td>10.922</td><td>6</td><td>srb+15</td><td>-69.81547568160012</td><td>110.42044663712122</td><td>0.93</td><td>-0.07</td><td>0.08</td></tr>\n",
       "<tr><td>37</td><td>J0040+5716</td><td>dtws85</td><td>00:40:32.362</td><td>6</td><td>hlk+04</td><td>+57:16:24.91</td><td>6</td><td>hlk+04</td><td>1.1182253452412</td><td>13</td><td>hlk+04</td><td>92.5146</td><td>25</td><td>bkk+16</td><td>-5.5668480781548</td><td>121.45232324144845</td><td>0.102</td><td>-0.025</td><td>0.051</td></tr>\n",
       "<tr><td>39</td><td>J0045-7319</td><td>mmh+91</td><td>00:45:35.16</td><td>7</td><td>kbm+96</td><td>-73:19:03.0</td><td>2</td><td>kbm+96</td><td>0.92627590497</td><td>3</td><td>kbm+96</td><td>105.4</td><td>7</td><td>kjb+94</td><td>-43.80414046752055</td><td>303.5137871349675</td><td>0.04</td><td>-0.06</td><td>0.06</td></tr>\n",
       "<tr><td>45</td><td>J0055+5117</td><td>dtws85</td><td>00:55:45.378</td><td>10</td><td>hlk+04</td><td>+51:17:24.97</td><td>11</td><td>hlk+04</td><td>2.115171148865</td><td>4</td><td>hlk+04</td><td>44.0127</td><td>24</td><td>bkk+16</td><td>-11.575699686189585</td><td>123.62107176076682</td><td>0.35</td><td>-0.06</td><td>0.06</td></tr>\n",
       "<tr><td>52</td><td>J0102+6537</td><td>dbtb82</td><td>01:02:32.958</td><td>16</td><td>hlk+04</td><td>+65:37:13.40</td><td>11</td><td>hlk+04</td><td>1.679164229064</td><td>12</td><td>hlk+04</td><td>65.853</td><td>16</td><td>hlk+04</td><td>2.7734033547248895</td><td>124.07953759047135</td><td>0.4</td><td>-0.04</td><td>0.04</td></tr>\n",
       "<tr><td>55</td><td>J0108-1431</td><td>tnj+94</td><td>01:08:08.347016</td><td>88</td><td>dtbr09</td><td>-14:31:50.1871</td><td>11</td><td>dtbr09</td><td>0.807564614019</td><td>20</td><td>hlk+04</td><td>2.38</td><td>19</td><td>hlk+04</td><td>-76.81514116286601</td><td>140.9305038600051</td><td>4.2</td><td>-1.4</td><td>1.4</td></tr>\n",
       "<tr><td>56</td><td>J0108+6608</td><td>dls72</td><td>01:08:22.64</td><td>5</td><td>hlk+04</td><td>+66:08:34.0</td><td>3</td><td>hlk+04</td><td>1.2836598429</td><td>5</td><td>hlk+04</td><td>30.5482</td><td>14</td><td>bkk+16</td><td>3.3274336608272983</td><td>124.64633668237452</td><td>0.47</td><td>-0.03</td><td>0.04</td></tr>\n",
       "<tr><td>69</td><td>J0139+5814</td><td>dth78</td><td>01:39:19.7401</td><td>12</td><td>cbv+09</td><td>+58:14:31.819</td><td>17</td><td>cbv+09</td><td>0.27245063095</td><td>15</td><td>hlk+04</td><td>73.81141</td><td>76</td><td>bkk+16</td><td>-4.044050581303278</td><td>129.21600096650732</td><td>0.37</td><td>-0.04</td><td>0.04</td></tr>\n",
       "<tr><td>73</td><td>J0147+5922</td><td>stwd85</td><td>01:47:44.6457</td><td>17</td><td>ywml10</td><td>+59:22:03.293</td><td>15</td><td>ywml10</td><td>0.19632137543003</td><td>16</td><td>ywml10</td><td>40.111</td><td>3</td><td>hlk+04</td><td>-2.722805763495012</td><td>130.05877683575613</td><td>0.49</td><td>-0.09</td><td>0.04</td></tr>\n",
       "<tr><td>...</td><td>...</td><td>...</td><td>...</td><td>...</td><td>...</td><td>...</td><td>...</td><td>...</td><td>...</td><td>...</td><td>...</td><td>...</td><td>...</td><td>...</td><td>...</td><td>...</td><td>...</td><td>...</td><td>...</td></tr>\n",
       "<tr><td>2450</td><td>J2215+5135</td><td>hrm+11</td><td>22:15:32.6884</td><td>4</td><td>aaa+13</td><td>+51:35:36.340</td><td>13</td><td>aaa+13</td><td>0.0026096197234461</td><td>7</td><td>aaa+13</td><td>69.1951</td><td>2</td><td>aaa+13</td><td>-4.158891731008742</td><td>99.86762534165095</td><td>0.28</td><td>-0.36</td><td>0.36</td></tr>\n",
       "<tr><td>2454</td><td>J2222-0137</td><td>blr+13</td><td>22:22:05.969101</td><td>7</td><td>dbl+13</td><td>-01:37:15.72441</td><td>10</td><td>dbl+13</td><td>0.032817859053065</td><td>3</td><td>kbd+14</td><td>3.2842</td><td>6</td><td>kbd+14</td><td>-46.07528827261431</td><td>62.018455404267364</td><td>3.742</td><td>-0.016</td><td>0.013</td></tr>\n",
       "<tr><td>2458</td><td>J2225+6535</td><td>dls73</td><td>22:25:52.721</td><td>7</td><td>ywml10</td><td>+65:35:35.58</td><td>4</td><td>ywml10</td><td>0.682542497406</td><td>10</td><td>ywml10</td><td>36.44362</td><td>51</td><td>bkk+16</td><td>6.845530542056079</td><td>108.63724945247675</td><td>1.2</td><td>-0.2</td><td>0.17</td></tr>\n",
       "<tr><td>2475</td><td>J2248-0101</td><td>mld+96</td><td>22:48:26.904</td><td>18</td><td>hlk+04</td><td>-01:01:48.1</td><td>7</td><td>hlk+04</td><td>0.477233119123</td><td>3</td><td>hlk+04</td><td>29.05</td><td>3</td><td>hlk+04</td><td>-50.620048906854855</td><td>69.25604726544037</td><td>0.26</td><td>-0.07</td><td>0.05</td></tr>\n",
       "<tr><td>2481</td><td>J2305+3100</td><td>lan69</td><td>23:05:58.324</td><td>10</td><td>hlk+04</td><td>+31:00:01.76</td><td>15</td><td>hlk+04</td><td>1.575886338359</td><td>8</td><td>hlk+04</td><td>49.5845</td><td>12</td><td>bkk+16</td><td>-26.657295330748237</td><td>97.7210295286803</td><td>0.223</td><td>-0.028</td><td>0.033</td></tr>\n",
       "<tr><td>2486</td><td>J2313+4253</td><td>dth78</td><td>23:13:08.6209</td><td>1</td><td>cbv+09</td><td>+42:53:13.043</td><td>2</td><td>cbv+09</td><td>0.3494336821331</td><td>5</td><td>hlk+04</td><td>17.27693</td><td>33</td><td>bkk+16</td><td>-16.421981271378726</td><td>104.4104984210261</td><td>0.93</td><td>-0.07</td><td>0.06</td></tr>\n",
       "<tr><td>2489</td><td>J2317+1439</td><td>cnt93</td><td>23:17:09.236644</td><td>9</td><td>mnf+16</td><td>+14:39:31.2557</td><td>2</td><td>mnf+16</td><td>0.003445251072220741</td><td>6</td><td>abb+15</td><td>21.8999</td><td>2</td><td>abb+15</td><td>-42.36018586123301</td><td>91.36074708454758</td><td>0.6</td><td>-0.24</td><td>1.53</td></tr>\n",
       "<tr><td>2490</td><td>J2317+2149</td><td>dth78</td><td>23:17:57.828</td><td>5</td><td>hlk+04</td><td>+21:49:48.03</td><td>10</td><td>hlk+04</td><td>1.444653102317</td><td>3</td><td>hlk+04</td><td>20.86959</td><td>31</td><td>bkk+16</td><td>-36.07475277728616</td><td>95.83137127513986</td><td>0.51</td><td>-0.05</td><td>0.06</td></tr>\n",
       "<tr><td>2505</td><td>J2346-0609</td><td>mld+96</td><td>23:46:50.454</td><td>17</td><td>hlk+04</td><td>-06:09:59.5</td><td>6</td><td>hlk+04</td><td>1.181463382967</td><td>5</td><td>hlk+04</td><td>22.504</td><td>19</td><td>hlk+04</td><td>-64.01440842634236</td><td>83.79761093820291</td><td>0.275</td><td>-0.036</td><td>0.021</td></tr>\n",
       "<tr><td>2508</td><td>J2354+6155</td><td>dbtb82</td><td>23:54:04.724</td><td>4</td><td>hlk+04</td><td>+61:55:46.79</td><td>2</td><td>hlk+04</td><td>0.944783886655</td><td>11</td><td>hlk+04</td><td>94.662</td><td>6</td><td>hlk+04</td><td>-0.1944580166622709</td><td>116.2392373709962</td><td>0.41</td><td>-0.04</td><td>0.03</td></tr>\n",
       "</table>"
      ],
      "text/plain": [
       "<Table length=134>\n",
       "  ID     PSRJ     Pref        RAJ       ...    PI     PIm     PIp  \n",
       "int64   str12     str7       str16      ... float64 float64 float64\n",
       "----- ---------- ------ --------------- ... ------- ------- -------\n",
       "   31 J0030+0451 lzb+00  00:30:27.42823 ...     3.3    -0.9     0.9\n",
       "   35 J0034-0721 lvw69a   00:34:08.8703 ...    0.93   -0.07    0.08\n",
       "   37 J0040+5716 dtws85    00:40:32.362 ...   0.102  -0.025   0.051\n",
       "   39 J0045-7319 mmh+91     00:45:35.16 ...    0.04   -0.06    0.06\n",
       "   45 J0055+5117 dtws85    00:55:45.378 ...    0.35   -0.06    0.06\n",
       "   52 J0102+6537 dbtb82    01:02:32.958 ...     0.4   -0.04    0.04\n",
       "   55 J0108-1431 tnj+94 01:08:08.347016 ...     4.2    -1.4     1.4\n",
       "   56 J0108+6608  dls72     01:08:22.64 ...    0.47   -0.03    0.04\n",
       "   69 J0139+5814  dth78   01:39:19.7401 ...    0.37   -0.04    0.04\n",
       "   73 J0147+5922 stwd85   01:47:44.6457 ...    0.49   -0.09    0.04\n",
       "  ...        ...    ...             ... ...     ...     ...     ...\n",
       " 2450 J2215+5135 hrm+11   22:15:32.6884 ...    0.28   -0.36    0.36\n",
       " 2454 J2222-0137 blr+13 22:22:05.969101 ...   3.742  -0.016   0.013\n",
       " 2458 J2225+6535  dls73    22:25:52.721 ...     1.2    -0.2    0.17\n",
       " 2475 J2248-0101 mld+96    22:48:26.904 ...    0.26   -0.07    0.05\n",
       " 2481 J2305+3100  lan69    23:05:58.324 ...   0.223  -0.028   0.033\n",
       " 2486 J2313+4253  dth78   23:13:08.6209 ...    0.93   -0.07    0.06\n",
       " 2489 J2317+1439  cnt93 23:17:09.236644 ...     0.6   -0.24    1.53\n",
       " 2490 J2317+2149  dth78    23:17:57.828 ...    0.51   -0.05    0.06\n",
       " 2505 J2346-0609 mld+96    23:46:50.454 ...   0.275  -0.036   0.021\n",
       " 2508 J2354+6155 dbtb82    23:54:04.724 ...    0.41   -0.04    0.03"
      ]
     },
     "execution_count": 5,
     "metadata": {},
     "output_type": "execute_result"
    }
   ],
   "source": [
    "plx = pulsars['PI'] > 0.\n",
    "pulsars[plx]"
   ]
  },
  {
   "cell_type": "markdown",
   "metadata": {},
   "source": [
    "## Coords"
   ]
  },
  {
   "cell_type": "code",
   "execution_count": 13,
   "metadata": {},
   "outputs": [],
   "source": [
    "pcoord = SkyCoord(pulsars['RAJ'], pulsars['DECJ'], unit=(units.hourangle, units.deg))"
   ]
  },
  {
   "cell_type": "code",
   "execution_count": 14,
   "metadata": {},
   "outputs": [
    {
     "data": {
      "text/plain": [
       "<SkyCoord (ICRS): (ra, dec) in deg\n",
       "    [(  1.52      , 18.58305556), (  2.89166667,  8.16666667),\n",
       "     (  3.57395833, 47.77594444), ..., (358.        , 65.        ),\n",
       "     (358.5       , 85.56666667), (358.51968333, 61.92966389)]>"
      ]
     },
     "execution_count": 14,
     "metadata": {},
     "output_type": "execute_result"
    }
   ],
   "source": [
    "pcoord"
   ]
  },
  {
   "cell_type": "code",
   "execution_count": null,
   "metadata": {},
   "outputs": [],
   "source": []
  }
 ],
 "metadata": {
  "kernelspec": {
   "display_name": "Python 3",
   "language": "python",
   "name": "python3"
  },
  "language_info": {
   "codemirror_mode": {
    "name": "ipython",
    "version": 3
   },
   "file_extension": ".py",
   "mimetype": "text/x-python",
   "name": "python",
   "nbconvert_exporter": "python",
   "pygments_lexer": "ipython3",
   "version": "3.6.3"
  }
 },
 "nbformat": 4,
 "nbformat_minor": 2
}
