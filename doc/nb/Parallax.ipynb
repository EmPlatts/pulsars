{
 "cells": [
  {
   "cell_type": "markdown",
   "metadata": {},
   "source": [
    "# Parsing the Parallax file"
   ]
  },
  {
   "cell_type": "code",
   "execution_count": 16,
   "metadata": {},
   "outputs": [],
   "source": [
    "# imports\n",
    "from pkg_resources import resource_filename\n",
    "import numpy as np\n",
    "import pdb\n",
    "\n",
    "from astropy.table import Table\n",
    "\n",
    "from pulsars import io as pio"
   ]
  },
  {
   "cell_type": "markdown",
   "metadata": {},
   "source": [
    "## Load up the lines"
   ]
  },
  {
   "cell_type": "code",
   "execution_count": 2,
   "metadata": {
    "collapsed": true
   },
   "outputs": [],
   "source": [
    "p_file = resource_filename('pulsars', 'data/parallax/Parallaxes_aug2018.txt')"
   ]
  },
  {
   "cell_type": "code",
   "execution_count": 3,
   "metadata": {},
   "outputs": [],
   "source": [
    "with open(p_file) as f:\n",
    "    lines = [line.rstrip() for line in f]"
   ]
  },
  {
   "cell_type": "code",
   "execution_count": 4,
   "metadata": {},
   "outputs": [
    {
     "data": {
      "text/plain": [
       "'# Shami Chatterjee'"
      ]
     },
     "execution_count": 4,
     "metadata": {},
     "output_type": "execute_result"
    }
   ],
   "source": [
    "lines[1]"
   ]
  },
  {
   "cell_type": "markdown",
   "metadata": {},
   "source": [
    "## Parse em\n",
    "\n",
    "### This takes the first entry, which might not be the most accurate"
   ]
  },
  {
   "cell_type": "code",
   "execution_count": 5,
   "metadata": {},
   "outputs": [],
   "source": [
    "all_obs = []\n",
    "cnt = 0\n",
    "while cnt < len(lines):\n",
    "    if '!!psr' in lines[cnt]:\n",
    "        tdict = {}\n",
    "        cnt += 1\n",
    "        tdict['JNAME'] = lines[cnt].split('=')[1].strip()\n",
    "        cnt += 1\n",
    "        tdict['BNAME'] = lines[cnt].split('=')[1].strip()\n",
    "        cnt += 1\n",
    "        tdict['PI'] = float(lines[cnt].split('=')[1].strip())    \n",
    "        cnt += 1\n",
    "        tdict['eplus'] = float(lines[cnt].split('=')[1].strip())\n",
    "        cnt += 1\n",
    "        tdict['eminus'] = float(lines[cnt].split('=')[1].strip())\n",
    "        cnt += 1\n",
    "        tdict['Ref'] = lines[cnt].split('=')[1].lstrip()\n",
    "        cnt += 2\n",
    "        tdict['Method'] = lines[cnt].split('=')[1].lstrip()    \n",
    "        #\n",
    "        all_obs.append(tdict.copy())\n",
    "    else:\n",
    "        cnt += 1"
   ]
  },
  {
   "cell_type": "code",
   "execution_count": 6,
   "metadata": {},
   "outputs": [
    {
     "data": {
      "text/plain": [
       "{'BNAME': '',\n",
       " 'JNAME': 'J0030+0451',\n",
       " 'Method': 'Timing',\n",
       " 'PI': 3.3,\n",
       " 'Ref': 'Lommen et al. (2006)',\n",
       " 'eminus': -0.9,\n",
       " 'eplus': 0.9}"
      ]
     },
     "execution_count": 6,
     "metadata": {},
     "output_type": "execute_result"
    }
   ],
   "source": [
    "all_obs[0]"
   ]
  },
  {
   "cell_type": "markdown",
   "metadata": {},
   "source": [
    "## Table me"
   ]
  },
  {
   "cell_type": "code",
   "execution_count": 7,
   "metadata": {},
   "outputs": [
    {
     "data": {
      "text/html": [
       "<i>Table length=140</i>\n",
       "<table id=\"table139649050171600\" class=\"table-striped table-bordered table-condensed\">\n",
       "<thead><tr><th>BNAME</th><th>JNAME</th><th>Method</th><th>PI</th><th>Ref</th><th>eminus</th><th>eplus</th></tr></thead>\n",
       "<thead><tr><th>str8</th><th>str13</th><th>str20</th><th>float64</th><th>str32</th><th>float64</th><th>float64</th></tr></thead>\n",
       "<tr><td></td><td>J0030+0451</td><td>Timing</td><td>3.3</td><td>Lommen et al. (2006)</td><td>-0.9</td><td>0.9</td></tr>\n",
       "<tr><td>B0031-07</td><td>J0034-0721</td><td>VLBI (VLBA)</td><td>0.93</td><td>Chatterjee et al. (2009)</td><td>-0.07</td><td>0.08</td></tr>\n",
       "<tr><td>B0037+56</td><td>J0040+5716</td><td>VLBI (VLBA)</td><td>0.102</td><td>Deller et al. (2018)</td><td>-0.025</td><td>0.051</td></tr>\n",
       "<tr><td></td><td>J0045-7319</td><td>Optical (Gaia DR2)</td><td>0.04</td><td>Jennings et al. (2018)</td><td>-0.06</td><td>0.06</td></tr>\n",
       "<tr><td>B0052+51</td><td>J0055+5117</td><td>VLBI (VLBA)</td><td>0.35</td><td>Deller et al. (2018)</td><td>-0.06</td><td>0.06</td></tr>\n",
       "<tr><td>B0059+65</td><td>J0102+6537</td><td>VLBI (VLBA)</td><td>0.4</td><td>Deller et al. (2018)</td><td>-0.04</td><td>0.04</td></tr>\n",
       "<tr><td></td><td>J0108-1431</td><td>VLBI (LBA)</td><td>4.2</td><td>Deller et al. (2009)</td><td>-1.4</td><td>1.4</td></tr>\n",
       "<tr><td>B0105+65</td><td>J0108+6608</td><td>VLBI (VLBA)</td><td>0.47</td><td>Deller et al. (2018)</td><td>-0.03</td><td>0.04</td></tr>\n",
       "<tr><td>B0136+57</td><td>J0139+5814</td><td>VLBI (VLBA)</td><td>0.37</td><td>Chatterjee et al. (2009)</td><td>-0.04</td><td>0.04</td></tr>\n",
       "<tr><td>B0144+59</td><td>J0147+5922</td><td>VLBI (VLBA)</td><td>0.49</td><td>Deller et al. (2018)</td><td>-0.09</td><td>0.04</td></tr>\n",
       "<tr><td>...</td><td>...</td><td>...</td><td>...</td><td>...</td><td>...</td><td>...</td></tr>\n",
       "<tr><td>B2224+65</td><td>J2225+6535</td><td>VLBI (VLBA)</td><td>1.2</td><td>Deller et al. (2018)</td><td>-0.2</td><td>0.17</td></tr>\n",
       "<tr><td></td><td>J2248-0101</td><td>VLBI (VLBA)</td><td>0.26</td><td>Deller et al. (2018)</td><td>-0.07</td><td>0.05</td></tr>\n",
       "<tr><td>B2303+30</td><td>J2305+3100</td><td>VLBI (VLBA)</td><td>0.223</td><td>Deller et al. (2018)</td><td>-0.028</td><td>0.033</td></tr>\n",
       "<tr><td>B2310+42</td><td>J2313+4253</td><td>VLBI (VLBA)</td><td>0.93</td><td>Chatterjee et al. (2009)</td><td>-0.07</td><td>0.06</td></tr>\n",
       "<tr><td></td><td>J2317+1439</td><td>VLBI (VLBA)</td><td>0.6</td><td>Deller et al. (2018)</td><td>-0.24</td><td>1.53</td></tr>\n",
       "<tr><td>B2315+21</td><td>J2317+2149</td><td>VLBI (VLBA)</td><td>0.51</td><td>Deller et al. (2018)</td><td>-0.05</td><td>0.06</td></tr>\n",
       "<tr><td>B2323+63</td><td>J2325+6316</td><td>VLBI (VLBA)</td><td>-0.01</td><td>Deller et al. (2018)</td><td>-0.04</td><td>0.05</td></tr>\n",
       "<tr><td></td><td>J2339-0533</td><td>Optical (Gaia DR2)</td><td>0.75</td><td>Jennings et al. (2018)</td><td>-0.25</td><td>0.25</td></tr>\n",
       "<tr><td></td><td>J2346-0609</td><td>VLBI (VLBA)</td><td>0.275</td><td>Deller et al. (2018)</td><td>-0.036</td><td>0.021</td></tr>\n",
       "<tr><td>B2351+61</td><td>J2354+6155</td><td>VLBI (VLBA)</td><td>0.41</td><td>Deller et al. (2018)</td><td>-0.04</td><td>0.03</td></tr>\n",
       "</table>"
      ],
      "text/plain": [
       "<Table length=140>\n",
       " BNAME     JNAME          Method       ...  eminus  eplus \n",
       "  str8     str13          str20        ... float64 float64\n",
       "-------- ---------- ------------------ ... ------- -------\n",
       "         J0030+0451             Timing ...    -0.9     0.9\n",
       "B0031-07 J0034-0721        VLBI (VLBA) ...   -0.07    0.08\n",
       "B0037+56 J0040+5716        VLBI (VLBA) ...  -0.025   0.051\n",
       "         J0045-7319 Optical (Gaia DR2) ...   -0.06    0.06\n",
       "B0052+51 J0055+5117        VLBI (VLBA) ...   -0.06    0.06\n",
       "B0059+65 J0102+6537        VLBI (VLBA) ...   -0.04    0.04\n",
       "         J0108-1431         VLBI (LBA) ...    -1.4     1.4\n",
       "B0105+65 J0108+6608        VLBI (VLBA) ...   -0.03    0.04\n",
       "B0136+57 J0139+5814        VLBI (VLBA) ...   -0.04    0.04\n",
       "B0144+59 J0147+5922        VLBI (VLBA) ...   -0.09    0.04\n",
       "     ...        ...                ... ...     ...     ...\n",
       "B2224+65 J2225+6535        VLBI (VLBA) ...    -0.2    0.17\n",
       "         J2248-0101        VLBI (VLBA) ...   -0.07    0.05\n",
       "B2303+30 J2305+3100        VLBI (VLBA) ...  -0.028   0.033\n",
       "B2310+42 J2313+4253        VLBI (VLBA) ...   -0.07    0.06\n",
       "         J2317+1439        VLBI (VLBA) ...   -0.24    1.53\n",
       "B2315+21 J2317+2149        VLBI (VLBA) ...   -0.05    0.06\n",
       "B2323+63 J2325+6316        VLBI (VLBA) ...   -0.04    0.05\n",
       "         J2339-0533 Optical (Gaia DR2) ...   -0.25    0.25\n",
       "         J2346-0609        VLBI (VLBA) ...  -0.036   0.021\n",
       "B2351+61 J2354+6155        VLBI (VLBA) ...   -0.04    0.03"
      ]
     },
     "execution_count": 7,
     "metadata": {},
     "output_type": "execute_result"
    }
   ],
   "source": [
    "plx = Table(all_obs)\n",
    "plx"
   ]
  },
  {
   "cell_type": "markdown",
   "metadata": {},
   "source": [
    "### Output"
   ]
  },
  {
   "cell_type": "code",
   "execution_count": 18,
   "metadata": {
    "collapsed": true
   },
   "outputs": [],
   "source": [
    "tbl_file = resource_filename('pulsars', 'data/parallax/Plx_aug2018.dat')"
   ]
  },
  {
   "cell_type": "code",
   "execution_count": 23,
   "metadata": {},
   "outputs": [],
   "source": [
    "plx.write(tbl_file, overwrite=True, format='ascii.fixed_width')"
   ]
  },
  {
   "cell_type": "markdown",
   "metadata": {},
   "source": [
    "## Match to DMs"
   ]
  },
  {
   "cell_type": "code",
   "execution_count": 10,
   "metadata": {},
   "outputs": [
    {
     "name": "stdout",
     "output_type": "stream",
     "text": [
      "Loading up DMs from /home/xavier/Projects/pulsars/pulsars/data/atnf_cat/DM_cat_v1.56.dat\n"
     ]
    },
    {
     "data": {
      "text/html": [
       "<i>Table length=5</i>\n",
       "<table id=\"table139649050558360\" class=\"table-striped table-bordered table-condensed\">\n",
       "<thead><tr><th>ID</th><th>PSRJ</th><th>Pref</th><th>RAJ</th><th>RAf</th><th>RAref</th><th>DECJ</th><th>DECf</th><th>DECref</th><th>P0</th><th>P0f</th><th>P0ref</th><th>DM</th><th>DMf</th><th>DMref</th></tr></thead>\n",
       "<thead><tr><th>int64</th><th>str12</th><th>str7</th><th>str16</th><th>int64</th><th>str7</th><th>str16</th><th>int64</th><th>str7</th><th>float64</th><th>int64</th><th>str7</th><th>float64</th><th>int64</th><th>str7</th></tr></thead>\n",
       "<tr><td>1</td><td>J0006+1834</td><td>cnt96</td><td>00:06:04.8</td><td>2</td><td>cn95</td><td>+18:34:59</td><td>4</td><td>cn95</td><td>0.69374767047</td><td>14</td><td>cn95</td><td>11.41</td><td>55</td><td>bkk+16</td></tr>\n",
       "<tr><td>2</td><td>J0011+08</td><td>dsm+16</td><td>00:11:34</td><td>114</td><td>dsm+16</td><td>+08:10</td><td>8</td><td>dsm+16</td><td>2.55287</td><td>0</td><td>dsm+16</td><td>24.9</td><td>0</td><td>dsm+16</td></tr>\n",
       "<tr><td>3</td><td>J0014+4746</td><td>dth78</td><td>00:14:17.75</td><td>4</td><td>hlk+04</td><td>+47:46:33.4</td><td>3</td><td>hlk+04</td><td>1.240699038946</td><td>11</td><td>hlk+04</td><td>30.405</td><td>13</td><td>bkk+16</td></tr>\n",
       "<tr><td>4</td><td>J0023+0923</td><td>hrm+11</td><td>00:23:16.87910</td><td>3</td><td>mnf+16</td><td>+09:23:23.871</td><td>1</td><td>mnf+16</td><td>0.00305020310409707</td><td>3</td><td>abb+15</td><td>14.3283</td><td>5</td><td>abb+15</td></tr>\n",
       "<tr><td>5</td><td>J0024-7204aa</td><td>phl+16</td><td>00:24:05.67</td><td>0</td><td>mam+06</td><td>-72:04:52.62</td><td>0</td><td>mam+06</td><td>0.00184</td><td>0</td><td>phl+16</td><td>24.971</td><td>7</td><td>phl+16</td></tr>\n",
       "</table>"
      ],
      "text/plain": [
       "<Table length=5>\n",
       "  ID      PSRJ      Pref       RAJ        RAf  ... P0ref     DM    DMf  DMref \n",
       "int64    str12      str7      str16      int64 ...  str7  float64 int64  str7 \n",
       "----- ------------ ------ -------------- ----- ... ------ ------- ----- ------\n",
       "    1   J0006+1834  cnt96     00:06:04.8     2 ...   cn95   11.41    55 bkk+16\n",
       "    2     J0011+08 dsm+16       00:11:34   114 ... dsm+16    24.9     0 dsm+16\n",
       "    3   J0014+4746  dth78    00:14:17.75     4 ... hlk+04  30.405    13 bkk+16\n",
       "    4   J0023+0923 hrm+11 00:23:16.87910     3 ... abb+15 14.3283     5 abb+15\n",
       "    5 J0024-7204aa phl+16    00:24:05.67     0 ... phl+16  24.971     7 phl+16"
      ]
     },
     "execution_count": 10,
     "metadata": {},
     "output_type": "execute_result"
    }
   ],
   "source": [
    "DMs = pio.load_DM()\n",
    "DMs[0:5]"
   ]
  },
  {
   "cell_type": "code",
   "execution_count": 17,
   "metadata": {},
   "outputs": [
    {
     "name": "stdout",
     "output_type": "stream",
     "text": [
      "BNAME   JNAME        Method     PI          Ref          eminus eplus\n",
      "----- ---------- ------------- ---- -------------------- ------ -----\n",
      "      J0720-3125 Optical (HST) 2.77 Kaplan et al. (2007)  -0.89  0.89\n",
      "BNAME     JNAME       Method    PI          Ref          eminus eplus\n",
      "----- ------------- ---------- ---- -------------------- ------ -----\n",
      "      J0737-3039A/B VLBI (LBA) 0.87 Deller et al. (2009)  -0.14  0.14\n",
      "BNAME   JNAME        Method     PI               Ref                eminus eplus\n",
      "----- ---------- ------------- --- -------------------------------- ------ -----\n",
      "      J1856-3754 Optical (HST) 6.2 van Kerkwijk &amp; Kaplan (2007)   -0.6   0.6\n",
      "BNAME   JNAME          Method        PI           Ref           eminus eplus\n",
      "----- ---------- ------------------ ---- ---------------------- ------ -----\n",
      "      J2339-0533 Optical (Gaia DR2) 0.75 Jennings et al. (2018)  -0.25  0.25\n"
     ]
    }
   ],
   "source": [
    "for row in plx:\n",
    "    idx = np.where(DMs['PSRJ'] == row['JNAME'])[0]\n",
    "    if len(idx) == 0:\n",
    "        print(row)\n",
    "    elif len(idx) > 1:\n",
    "        pdb.set_trace()"
   ]
  },
  {
   "cell_type": "code",
   "execution_count": null,
   "metadata": {
    "collapsed": true
   },
   "outputs": [],
   "source": []
  }
 ],
 "metadata": {
  "kernelspec": {
   "display_name": "Python 3",
   "language": "python",
   "name": "python3"
  },
  "language_info": {
   "codemirror_mode": {
    "name": "ipython",
    "version": 3
   },
   "file_extension": ".py",
   "mimetype": "text/x-python",
   "name": "python",
   "nbconvert_exporter": "python",
   "pygments_lexer": "ipython3",
   "version": "3.6.3"
  }
 },
 "nbformat": 4,
 "nbformat_minor": 2
}
