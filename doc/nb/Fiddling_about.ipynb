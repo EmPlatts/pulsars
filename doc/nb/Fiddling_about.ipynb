{
 "cells": [
  {
   "cell_type": "markdown",
   "metadata": {},
   "source": [
    "# Fiddling about a bit"
   ]
  },
  {
   "cell_type": "code",
   "execution_count": 11,
   "metadata": {},
   "outputs": [],
   "source": [
    "# imports\n",
    "from pkg_resources import resource_filename\n",
    "\n",
    "from astropy.table import Table\n",
    "from astropy.coordinates import SkyCoord\n",
    "from astropy import units as u"
   ]
  },
  {
   "cell_type": "markdown",
   "metadata": {},
   "source": [
    "## Load up"
   ]
  },
  {
   "cell_type": "code",
   "execution_count": 3,
   "metadata": {
    "collapsed": true
   },
   "outputs": [],
   "source": [
    "DM_file = resource_filename('pulsars', 'data/atnf_cat/DM_cat_v1.56.dat')"
   ]
  },
  {
   "cell_type": "code",
   "execution_count": 6,
   "metadata": {},
   "outputs": [
    {
     "data": {
      "text/html": [
       "<i>Table length=2508</i>\n",
       "<table id=\"table140092096581584\" class=\"table-striped table-bordered table-condensed\">\n",
       "<thead><tr><th>ID</th><th>PSRJ</th><th>Pref</th><th>RAJ</th><th>RAf</th><th>RAref</th><th>DECJ</th><th>DECf</th><th>DECref</th><th>P0</th><th>P0f</th><th>P0ref</th><th>DM</th><th>DMf</th><th>DMref</th></tr></thead>\n",
       "<thead><tr><th>int64</th><th>str12</th><th>str7</th><th>str16</th><th>int64</th><th>str7</th><th>str16</th><th>int64</th><th>str7</th><th>float64</th><th>int64</th><th>str7</th><th>float64</th><th>int64</th><th>str7</th></tr></thead>\n",
       "<tr><td>1</td><td>J0006+1834</td><td>cnt96</td><td>00:06:04.8</td><td>2</td><td>cn95</td><td>+18:34:59</td><td>4</td><td>cn95</td><td>0.69374767047</td><td>14</td><td>cn95</td><td>11.41</td><td>55</td><td>bkk+16</td></tr>\n",
       "<tr><td>2</td><td>J0011+08</td><td>dsm+16</td><td>00:11:34</td><td>114</td><td>dsm+16</td><td>+08:10</td><td>8</td><td>dsm+16</td><td>2.55287</td><td>0</td><td>dsm+16</td><td>24.9</td><td>0</td><td>dsm+16</td></tr>\n",
       "<tr><td>3</td><td>J0014+4746</td><td>dth78</td><td>00:14:17.75</td><td>4</td><td>hlk+04</td><td>+47:46:33.4</td><td>3</td><td>hlk+04</td><td>1.240699038946</td><td>11</td><td>hlk+04</td><td>30.405</td><td>13</td><td>bkk+16</td></tr>\n",
       "<tr><td>4</td><td>J0023+0923</td><td>hrm+11</td><td>00:23:16.87910</td><td>3</td><td>mnf+16</td><td>+09:23:23.871</td><td>1</td><td>mnf+16</td><td>0.00305020310409707</td><td>3</td><td>abb+15</td><td>14.3283</td><td>5</td><td>abb+15</td></tr>\n",
       "<tr><td>5</td><td>J0024-7204aa</td><td>phl+16</td><td>00:24:05.67</td><td>0</td><td>mam+06</td><td>-72:04:52.62</td><td>0</td><td>mam+06</td><td>0.00184</td><td>0</td><td>phl+16</td><td>24.971</td><td>7</td><td>phl+16</td></tr>\n",
       "<tr><td>6</td><td>J0024-7204ab</td><td>phl+16</td><td>00:24:08.1657</td><td>4</td><td>phl+16</td><td>-72:04:47.616</td><td>2</td><td>phl+16</td><td>0.00370463955393907</td><td>20</td><td>phl+16</td><td>24.37</td><td>2</td><td>phl+16</td></tr>\n",
       "<tr><td>7</td><td>J0024-7204C</td><td>mld+90</td><td>00:23:50.35311</td><td>9</td><td>fck+03</td><td>-72:04:31.4926</td><td>4</td><td>fck+03</td><td>0.0057567799955132</td><td>17</td><td>fck+03</td><td>24.599</td><td>2</td><td>fkl+01</td></tr>\n",
       "<tr><td>8</td><td>J0024-7204D</td><td>mlr+91</td><td>00:24:13.87934</td><td>7</td><td>fck+03</td><td>-72:04:43.8405</td><td>3</td><td>fck+03</td><td>0.00535757328486266</td><td>18</td><td>fck+03</td><td>24.729</td><td>2</td><td>fkl+01</td></tr>\n",
       "<tr><td>9</td><td>J0024-7204E</td><td>mlr+91</td><td>00:24:11.1036</td><td>1</td><td>fck+03</td><td>-72:05:20.1377</td><td>4</td><td>fck+03</td><td>0.00353632915276031</td><td>13</td><td>fck+03</td><td>24.23</td><td>2</td><td>fkl+01</td></tr>\n",
       "<tr><td>10</td><td>J0024-7204F</td><td>mlr+91</td><td>00:24:03.8539</td><td>1</td><td>fck+03</td><td>-72:04:42.8065</td><td>5</td><td>fck+03</td><td>0.00262357935251098</td><td>14</td><td>fck+03</td><td>24.379</td><td>5</td><td>fkl+01</td></tr>\n",
       "<tr><td>...</td><td>...</td><td>...</td><td>...</td><td>...</td><td>...</td><td>...</td><td>...</td><td>...</td><td>...</td><td>...</td><td>...</td><td>...</td><td>...</td><td>...</td></tr>\n",
       "<tr><td>2499</td><td>J2329+16</td><td>dsm+13</td><td>23:29:50</td><td>31</td><td>dsm+13</td><td>+16:57</td><td>8</td><td>dsm+13</td><td>0.6321</td><td>0</td><td>dsm+13</td><td>31.0</td><td>0</td><td>dsm+13</td></tr>\n",
       "<tr><td>2500</td><td>J2330-2005</td><td>ll76</td><td>23:30:26.885</td><td>7</td><td>hlk+04</td><td>-20:05:29.63</td><td>17</td><td>hlk+04</td><td>1.643622185327</td><td>5</td><td>hlk+04</td><td>8.456</td><td>2</td><td>srb+15</td></tr>\n",
       "<tr><td>2501</td><td>J2333+6145</td><td>bck+13</td><td>23:33:19.448</td><td>5</td><td>bck+13</td><td>+61:45:30.09</td><td>3</td><td>bck+13</td><td>0.756899382059</td><td>7</td><td>bck+13</td><td>125.0</td><td>0</td><td>bck+13</td></tr>\n",
       "<tr><td>2502</td><td>J2337+6151</td><td>dtws85</td><td>23:37:05.762</td><td>10</td><td>ymw+10</td><td>+61:51:01.53</td><td>7</td><td>ymw+10</td><td>0.495369868028</td><td>5</td><td>ymw+10</td><td>58.41</td><td>15</td><td>hlk+04</td></tr>\n",
       "<tr><td>2503</td><td>J2340+08</td><td>dsm+13</td><td>23:40:45</td><td>7</td><td>dsm+13</td><td>+08:33:00</td><td>100</td><td>dsm+13</td><td>0.3033</td><td>0</td><td>dsm+13</td><td>24.0</td><td>0</td><td>dsm+13</td></tr>\n",
       "<tr><td>2504</td><td>J2343+6221</td><td>hrk+08</td><td>23:43</td><td>0</td><td>hrk+08</td><td>+62:21</td><td>0</td><td>hrk+08</td><td>1.799</td><td>0</td><td>hrk+08</td><td>117.0</td><td>0</td><td>hrk+08</td></tr>\n",
       "<tr><td>2505</td><td>J2346-0609</td><td>mld+96</td><td>23:46:50.454</td><td>17</td><td>hlk+04</td><td>-06:09:59.5</td><td>6</td><td>hlk+04</td><td>1.181463382967</td><td>5</td><td>hlk+04</td><td>22.504</td><td>19</td><td>hlk+04</td></tr>\n",
       "<tr><td>2506</td><td>J2352+65</td><td>hrk+08</td><td>23:52</td><td>0</td><td>hrk+08</td><td>+65</td><td>0</td><td>hrk+08</td><td>1.164</td><td>0</td><td>hrk+08</td><td>152.0</td><td>0</td><td>hrk+08</td></tr>\n",
       "<tr><td>2507</td><td>J2353+85</td><td>slr+14</td><td>23:54</td><td>7</td><td>slr+14</td><td>+85:34</td><td>8</td><td>slr+14</td><td>1.011691</td><td>37</td><td>slr+14</td><td>38.0</td><td>2</td><td>slr+14</td></tr>\n",
       "<tr><td>2508</td><td>J2354+6155</td><td>dbtb82</td><td>23:54:04.724</td><td>4</td><td>hlk+04</td><td>+61:55:46.79</td><td>2</td><td>hlk+04</td><td>0.944783886655</td><td>11</td><td>hlk+04</td><td>94.662</td><td>6</td><td>hlk+04</td></tr>\n",
       "</table>"
      ],
      "text/plain": [
       "<Table length=2508>\n",
       "  ID      PSRJ      Pref       RAJ        RAf  ... P0ref     DM    DMf  DMref \n",
       "int64    str12      str7      str16      int64 ...  str7  float64 int64  str7 \n",
       "----- ------------ ------ -------------- ----- ... ------ ------- ----- ------\n",
       "    1   J0006+1834  cnt96     00:06:04.8     2 ...   cn95   11.41    55 bkk+16\n",
       "    2     J0011+08 dsm+16       00:11:34   114 ... dsm+16    24.9     0 dsm+16\n",
       "    3   J0014+4746  dth78    00:14:17.75     4 ... hlk+04  30.405    13 bkk+16\n",
       "    4   J0023+0923 hrm+11 00:23:16.87910     3 ... abb+15 14.3283     5 abb+15\n",
       "    5 J0024-7204aa phl+16    00:24:05.67     0 ... phl+16  24.971     7 phl+16\n",
       "    6 J0024-7204ab phl+16  00:24:08.1657     4 ... phl+16   24.37     2 phl+16\n",
       "    7  J0024-7204C mld+90 00:23:50.35311     9 ... fck+03  24.599     2 fkl+01\n",
       "    8  J0024-7204D mlr+91 00:24:13.87934     7 ... fck+03  24.729     2 fkl+01\n",
       "    9  J0024-7204E mlr+91  00:24:11.1036     1 ... fck+03   24.23     2 fkl+01\n",
       "   10  J0024-7204F mlr+91  00:24:03.8539     1 ... fck+03  24.379     5 fkl+01\n",
       "  ...          ...    ...            ...   ... ...    ...     ...   ...    ...\n",
       " 2499     J2329+16 dsm+13       23:29:50    31 ... dsm+13    31.0     0 dsm+13\n",
       " 2500   J2330-2005   ll76   23:30:26.885     7 ... hlk+04   8.456     2 srb+15\n",
       " 2501   J2333+6145 bck+13   23:33:19.448     5 ... bck+13   125.0     0 bck+13\n",
       " 2502   J2337+6151 dtws85   23:37:05.762    10 ... ymw+10   58.41    15 hlk+04\n",
       " 2503     J2340+08 dsm+13       23:40:45     7 ... dsm+13    24.0     0 dsm+13\n",
       " 2504   J2343+6221 hrk+08          23:43     0 ... hrk+08   117.0     0 hrk+08\n",
       " 2505   J2346-0609 mld+96   23:46:50.454    17 ... hlk+04  22.504    19 hlk+04\n",
       " 2506     J2352+65 hrk+08          23:52     0 ... hrk+08   152.0     0 hrk+08\n",
       " 2507     J2353+85 slr+14          23:54     7 ... slr+14    38.0     2 slr+14\n",
       " 2508   J2354+6155 dbtb82   23:54:04.724     4 ... hlk+04  94.662     6 hlk+04"
      ]
     },
     "execution_count": 6,
     "metadata": {},
     "output_type": "execute_result"
    }
   ],
   "source": [
    "DMs = Table.read(DM_file, format='ascii')\n",
    "DMs"
   ]
  },
  {
   "cell_type": "markdown",
   "metadata": {},
   "source": [
    "### Coords"
   ]
  },
  {
   "cell_type": "code",
   "execution_count": 14,
   "metadata": {},
   "outputs": [],
   "source": [
    "coords = SkyCoord(ra=DMs['RAJ'], dec=DMs['DECJ'], unit=(u.hourangle, u.deg))"
   ]
  },
  {
   "cell_type": "markdown",
   "metadata": {},
   "source": [
    "## Clouds"
   ]
  },
  {
   "cell_type": "markdown",
   "metadata": {},
   "source": [
    "### Manchester+06"
   ]
  },
  {
   "cell_type": "code",
   "execution_count": 8,
   "metadata": {},
   "outputs": [
    {
     "data": {
      "text/html": [
       "<i>Table length=14</i>\n",
       "<table id=\"table140092104294976\" class=\"table-striped table-bordered table-condensed\">\n",
       "<thead><tr><th>ID</th><th>PSRJ</th><th>Pref</th><th>RAJ</th><th>RAf</th><th>RAref</th><th>DECJ</th><th>DECf</th><th>DECref</th><th>P0</th><th>P0f</th><th>P0ref</th><th>DM</th><th>DMf</th><th>DMref</th></tr></thead>\n",
       "<thead><tr><th>int64</th><th>str12</th><th>str7</th><th>str16</th><th>int64</th><th>str7</th><th>str16</th><th>int64</th><th>str7</th><th>float64</th><th>int64</th><th>str7</th><th>float64</th><th>int64</th><th>str7</th></tr></thead>\n",
       "<tr><td>38</td><td>J0045-7042</td><td>mfl+06</td><td>00:45:25.69</td><td>17</td><td>mfl+06</td><td>-70:42:07.1</td><td>13</td><td>mfl+06</td><td>0.63233580002</td><td>6</td><td>mfl+06</td><td>70.0</td><td>3</td><td>mfl+06</td></tr>\n",
       "<tr><td>58</td><td>J0111-7131</td><td>mfl+06</td><td>01:11:28.77</td><td>9</td><td>mfl+06</td><td>-71:31:46.8</td><td>6</td><td>mfl+06</td><td>0.68854151164</td><td>5</td><td>mfl+06</td><td>76.0</td><td>3</td><td>mfl+06</td></tr>\n",
       "<tr><td>63</td><td>J0131-7310</td><td>mfl+06</td><td>01:31:28.51</td><td>3</td><td>mfl+06</td><td>-73:10:09.34</td><td>13</td><td>mfl+06</td><td>0.348124045581</td><td>7</td><td>mfl+06</td><td>205.2</td><td>7</td><td>mfl+06</td></tr>\n",
       "<tr><td>138</td><td>J0449-7031</td><td>mfl+06</td><td>04:49:05.67</td><td>5</td><td>mfl+06</td><td>-70:31:31.7</td><td>3</td><td>mfl+06</td><td>0.479163971291</td><td>14</td><td>mfl+06</td><td>65.83</td><td>7</td><td>mfl+06</td></tr>\n",
       "<tr><td>140</td><td>J0451-67</td><td>mfl+06</td><td>04:51:50</td><td>70</td><td>mfl+06</td><td>-67:18</td><td>7</td><td>mfl+06</td><td>0.24545429</td><td>7</td><td>mfl+06</td><td>45.0</td><td>1</td><td>mfl+06</td></tr>\n",
       "<tr><td>146</td><td>J0456-7031</td><td>mfl+06</td><td>04:56:02.5</td><td>3</td><td>mfl+06</td><td>-70:31:06.6</td><td>12</td><td>mfl+06</td><td>0.80013207321</td><td>10</td><td>mfl+06</td><td>100.3</td><td>3</td><td>mfl+06</td></tr>\n",
       "<tr><td>148</td><td>J0457-6337</td><td>mfl+06</td><td>04:57:07.79</td><td>8</td><td>mfl+06</td><td>-63:37:30.4</td><td>9</td><td>mfl+06</td><td>2.49701169613</td><td>19</td><td>mfl+06</td><td>27.5</td><td>10</td><td>mfl+06</td></tr>\n",
       "<tr><td>157</td><td>J0511-6508</td><td>mfl+06</td><td>05:11:56.50</td><td>2</td><td>mfl+06</td><td>-65:08:36.5</td><td>3</td><td>mfl+06</td><td>0.322061827468</td><td>8</td><td>mfl+06</td><td>25.66</td><td>8</td><td>mfl+06</td></tr>\n",
       "<tr><td>163</td><td>J0519-6932</td><td>mfl+06</td><td>05:19:46.917</td><td>12</td><td>mfl+06</td><td>-69:32:23.48</td><td>7</td><td>mfl+06</td><td>0.263211634568</td><td>3</td><td>mfl+06</td><td>119.4</td><td>5</td><td>mfl+06</td></tr>\n",
       "<tr><td>166</td><td>J0522-6847</td><td>mfl+06</td><td>05:22:23.06</td><td>8</td><td>mfl+06</td><td>-68:47:02.2</td><td>3</td><td>mfl+06</td><td>0.67453190906</td><td>3</td><td>mfl+06</td><td>126.45</td><td>7</td><td>mfl+06</td></tr>\n",
       "<tr><td>170</td><td>J0532-6639</td><td>mfl+06</td><td>05:32:59.51</td><td>6</td><td>mfl+06</td><td>-66:39:37.3</td><td>5</td><td>mfl+06</td><td>0.64274275093</td><td>3</td><td>mfl+06</td><td>69.3</td><td>18</td><td>mfl+06</td></tr>\n",
       "<tr><td>175</td><td>J0534-6703</td><td>mfl+06</td><td>05:34:36.17</td><td>10</td><td>mfl+06</td><td>-67:03:48.8</td><td>8</td><td>mfl+06</td><td>1.81756503106</td><td>17</td><td>mfl+06</td><td>94.7</td><td>12</td><td>mfl+06</td></tr>\n",
       "<tr><td>186</td><td>J0543-6851</td><td>mfl+06</td><td>05:43:52.71</td><td>11</td><td>mfl+06</td><td>-68:51:25.3</td><td>9</td><td>mfl+06</td><td>0.70895418575</td><td>6</td><td>mfl+06</td><td>131.0</td><td>4</td><td>mfl+06</td></tr>\n",
       "<tr><td>191</td><td>J0555-7056</td><td>mfl+06</td><td>05:55:01.85</td><td>12</td><td>mfl+06</td><td>-70:56:45.6</td><td>6</td><td>mfl+06</td><td>0.82783808575</td><td>7</td><td>mfl+06</td><td>73.4</td><td>16</td><td>mfl+06</td></tr>\n",
       "</table>"
      ],
      "text/plain": [
       "<Table length=14>\n",
       "  ID     PSRJ     Pref      RAJ       RAf  ...  P0f  P0ref     DM    DMf  DMref \n",
       "int64   str12     str7     str16     int64 ... int64  str7  float64 int64  str7 \n",
       "----- ---------- ------ ------------ ----- ... ----- ------ ------- ----- ------\n",
       "   38 J0045-7042 mfl+06  00:45:25.69    17 ...     6 mfl+06    70.0     3 mfl+06\n",
       "   58 J0111-7131 mfl+06  01:11:28.77     9 ...     5 mfl+06    76.0     3 mfl+06\n",
       "   63 J0131-7310 mfl+06  01:31:28.51     3 ...     7 mfl+06   205.2     7 mfl+06\n",
       "  138 J0449-7031 mfl+06  04:49:05.67     5 ...    14 mfl+06   65.83     7 mfl+06\n",
       "  140   J0451-67 mfl+06     04:51:50    70 ...     7 mfl+06    45.0     1 mfl+06\n",
       "  146 J0456-7031 mfl+06   04:56:02.5     3 ...    10 mfl+06   100.3     3 mfl+06\n",
       "  148 J0457-6337 mfl+06  04:57:07.79     8 ...    19 mfl+06    27.5    10 mfl+06\n",
       "  157 J0511-6508 mfl+06  05:11:56.50     2 ...     8 mfl+06   25.66     8 mfl+06\n",
       "  163 J0519-6932 mfl+06 05:19:46.917    12 ...     3 mfl+06   119.4     5 mfl+06\n",
       "  166 J0522-6847 mfl+06  05:22:23.06     8 ...     3 mfl+06  126.45     7 mfl+06\n",
       "  170 J0532-6639 mfl+06  05:32:59.51     6 ...     3 mfl+06    69.3    18 mfl+06\n",
       "  175 J0534-6703 mfl+06  05:34:36.17    10 ...    17 mfl+06    94.7    12 mfl+06\n",
       "  186 J0543-6851 mfl+06  05:43:52.71    11 ...     6 mfl+06   131.0     4 mfl+06\n",
       "  191 J0555-7056 mfl+06  05:55:01.85    12 ...     7 mfl+06    73.4    16 mfl+06"
      ]
     },
     "execution_count": 8,
     "metadata": {},
     "output_type": "execute_result"
    }
   ],
   "source": [
    "mfl = DMs['Pref'] == 'mfl+06'\n",
    "DMs[mfl]"
   ]
  },
  {
   "cell_type": "markdown",
   "metadata": {},
   "source": [
    "### LMC coords"
   ]
  },
  {
   "cell_type": "code",
   "execution_count": 12,
   "metadata": {
    "collapsed": true
   },
   "outputs": [],
   "source": [
    "lmc_distance = 50 * u.kpc\n",
    "lmc_coord = SkyCoord('J052334.6-694522', unit=(u.hourangle, u.deg),\n",
    "                              distance=lmc_distance)"
   ]
  },
  {
   "cell_type": "code",
   "execution_count": 18,
   "metadata": {},
   "outputs": [
    {
     "data": {
      "text/plain": [
       "array([22.25779012, 20.01142542, 17.9933658 ,  3.02498672,  3.79905143,\n",
       "        2.45841607,  6.65697434,  4.74427516,  0.39448776,  0.97787253,\n",
       "        3.21612251,  2.87657671,  2.00541972,  2.89681795])"
      ]
     },
     "execution_count": 18,
     "metadata": {},
     "output_type": "execute_result"
    }
   ],
   "source": [
    "lmc_coord.separation(coords[mfl]).to('deg').value"
   ]
  },
  {
   "cell_type": "markdown",
   "metadata": {},
   "source": [
    "### Others"
   ]
  },
  {
   "cell_type": "code",
   "execution_count": 19,
   "metadata": {
    "collapsed": true
   },
   "outputs": [],
   "source": [
    "close_to_lmc = lmc_coord.separation(coords) < 3*u.deg"
   ]
  },
  {
   "cell_type": "code",
   "execution_count": 20,
   "metadata": {},
   "outputs": [
    {
     "data": {
      "text/html": [
       "<i>Table length=17</i>\n",
       "<table id=\"table140092098624144\" class=\"table-striped table-bordered table-condensed\">\n",
       "<thead><tr><th>ID</th><th>PSRJ</th><th>Pref</th><th>RAJ</th><th>RAf</th><th>RAref</th><th>DECJ</th><th>DECf</th><th>DECref</th><th>P0</th><th>P0f</th><th>P0ref</th><th>DM</th><th>DMf</th><th>DMref</th></tr></thead>\n",
       "<thead><tr><th>int64</th><th>str12</th><th>str7</th><th>str16</th><th>int64</th><th>str7</th><th>str16</th><th>int64</th><th>str7</th><th>float64</th><th>int64</th><th>str7</th><th>float64</th><th>int64</th><th>str7</th></tr></thead>\n",
       "<tr><td>144</td><td>J0455-6951</td><td>mmh+91</td><td>04:55:47.55</td><td>8</td><td>ckm+01</td><td>-69:51:34.3</td><td>6</td><td>ckm+01</td><td>0.320422711526</td><td>12</td><td>ckm+01</td><td>94.89</td><td>14</td><td>ckm+01</td></tr>\n",
       "<tr><td>145</td><td>J0456-69</td><td>rcl+13</td><td>04:56:30</td><td>0</td><td>rcl+13</td><td>-69:10</td><td>0</td><td>rcl+13</td><td>0.117073051</td><td>15</td><td>rcl+13</td><td>103.0</td><td>1</td><td>rcl+13</td></tr>\n",
       "<tr><td>146</td><td>J0456-7031</td><td>mfl+06</td><td>04:56:02.5</td><td>3</td><td>mfl+06</td><td>-70:31:06.6</td><td>12</td><td>mfl+06</td><td>0.80013207321</td><td>10</td><td>mfl+06</td><td>100.3</td><td>3</td><td>mfl+06</td></tr>\n",
       "<tr><td>149</td><td>J0457-69</td><td>rcl+13</td><td>04:57:02</td><td>0</td><td>rcl+13</td><td>-69:46</td><td>0</td><td>rcl+13</td><td>0.231390388</td><td>73</td><td>rcl+13</td><td>91.0</td><td>1</td><td>rcl+13</td></tr>\n",
       "<tr><td>163</td><td>J0519-6932</td><td>mfl+06</td><td>05:19:46.917</td><td>12</td><td>mfl+06</td><td>-69:32:23.48</td><td>7</td><td>mfl+06</td><td>0.263211634568</td><td>3</td><td>mfl+06</td><td>119.4</td><td>5</td><td>mfl+06</td></tr>\n",
       "<tr><td>165</td><td>J0521-68</td><td>rcl+13</td><td>05:21:44</td><td>0</td><td>rcl+13</td><td>-68:35</td><td>0</td><td>rcl+13</td><td>0.4334207</td><td>30</td><td>rcl+13</td><td>136.0</td><td>4</td><td>rcl+13</td></tr>\n",
       "<tr><td>166</td><td>J0522-6847</td><td>mfl+06</td><td>05:22:23.06</td><td>8</td><td>mfl+06</td><td>-68:47:02.2</td><td>3</td><td>mfl+06</td><td>0.67453190906</td><td>3</td><td>mfl+06</td><td>126.45</td><td>7</td><td>mfl+06</td></tr>\n",
       "<tr><td>169</td><td>J0529-6652</td><td>mhah83</td><td>05:29:50.92</td><td>13</td><td>ckm+01</td><td>-66:52:38.2</td><td>9</td><td>ckm+01</td><td>0.97572496638</td><td>6</td><td>ckm+01</td><td>103.2</td><td>3</td><td>ckm+01</td></tr>\n",
       "<tr><td>171</td><td>J0532-69</td><td>rcl+13</td><td>05:32:04</td><td>0</td><td>rcl+13</td><td>-69:46</td><td>0</td><td>rcl+13</td><td>0.57459786</td><td>70</td><td>rcl+13</td><td>124.0</td><td>1</td><td>rcl+13</td></tr>\n",
       "<tr><td>175</td><td>J0534-6703</td><td>mfl+06</td><td>05:34:36.17</td><td>10</td><td>mfl+06</td><td>-67:03:48.8</td><td>8</td><td>mfl+06</td><td>1.81756503106</td><td>17</td><td>mfl+06</td><td>94.7</td><td>12</td><td>mfl+06</td></tr>\n",
       "<tr><td>177</td><td>J0535-6935</td><td>ckm+01</td><td>05:35</td><td>2</td><td>ckm+01</td><td>-69:35</td><td>7</td><td>ckm+01</td><td>0.20051133</td><td>2</td><td>mfl+06</td><td>93.7</td><td>4</td><td>mfl+06</td></tr>\n",
       "<tr><td>179</td><td>J0537-69</td><td>rcl+13</td><td>05:37:43</td><td>0</td><td>rcl+13</td><td>-69:21</td><td>0</td><td>rcl+13</td><td>0.112613212</td><td>20</td><td>rcl+13</td><td>273.0</td><td>1</td><td>rcl+13</td></tr>\n",
       "<tr><td>182</td><td>J0540-6919</td><td>shh84</td><td>05:40:11.202</td><td>9</td><td>msl+10</td><td>-69:19:54.17</td><td>5</td><td>msl+10</td><td>0.0505697030222</td><td>18</td><td>fak15</td><td>146.5</td><td>2</td><td>jr03</td></tr>\n",
       "<tr><td>183</td><td>J0540-7125</td><td>lml+98</td><td>05:40:30.8</td><td>3</td><td>dsb+98</td><td>-71:25:31.4</td><td>5</td><td>dsb+98</td><td>1.286014595</td><td>3</td><td>dsb+98</td><td>29.41</td><td>7</td><td>dsb+98</td></tr>\n",
       "<tr><td>184</td><td>J0542-68</td><td>rcl+13</td><td>05:42:35</td><td>0</td><td>rcl+13</td><td>-68:16</td><td>0</td><td>rcl+13</td><td>0.425189</td><td>72</td><td>rcl+13</td><td>114.0</td><td>5</td><td>rcl+13</td></tr>\n",
       "<tr><td>186</td><td>J0543-6851</td><td>mfl+06</td><td>05:43:52.71</td><td>11</td><td>mfl+06</td><td>-68:51:25.3</td><td>9</td><td>mfl+06</td><td>0.70895418575</td><td>6</td><td>mfl+06</td><td>131.0</td><td>4</td><td>mfl+06</td></tr>\n",
       "<tr><td>191</td><td>J0555-7056</td><td>mfl+06</td><td>05:55:01.85</td><td>12</td><td>mfl+06</td><td>-70:56:45.6</td><td>6</td><td>mfl+06</td><td>0.82783808575</td><td>7</td><td>mfl+06</td><td>73.4</td><td>16</td><td>mfl+06</td></tr>\n",
       "</table>"
      ],
      "text/plain": [
       "<Table length=17>\n",
       "  ID     PSRJ     Pref      RAJ       RAf  ...  P0f  P0ref     DM    DMf  DMref \n",
       "int64   str12     str7     str16     int64 ... int64  str7  float64 int64  str7 \n",
       "----- ---------- ------ ------------ ----- ... ----- ------ ------- ----- ------\n",
       "  144 J0455-6951 mmh+91  04:55:47.55     8 ...    12 ckm+01   94.89    14 ckm+01\n",
       "  145   J0456-69 rcl+13     04:56:30     0 ...    15 rcl+13   103.0     1 rcl+13\n",
       "  146 J0456-7031 mfl+06   04:56:02.5     3 ...    10 mfl+06   100.3     3 mfl+06\n",
       "  149   J0457-69 rcl+13     04:57:02     0 ...    73 rcl+13    91.0     1 rcl+13\n",
       "  163 J0519-6932 mfl+06 05:19:46.917    12 ...     3 mfl+06   119.4     5 mfl+06\n",
       "  165   J0521-68 rcl+13     05:21:44     0 ...    30 rcl+13   136.0     4 rcl+13\n",
       "  166 J0522-6847 mfl+06  05:22:23.06     8 ...     3 mfl+06  126.45     7 mfl+06\n",
       "  169 J0529-6652 mhah83  05:29:50.92    13 ...     6 ckm+01   103.2     3 ckm+01\n",
       "  171   J0532-69 rcl+13     05:32:04     0 ...    70 rcl+13   124.0     1 rcl+13\n",
       "  175 J0534-6703 mfl+06  05:34:36.17    10 ...    17 mfl+06    94.7    12 mfl+06\n",
       "  177 J0535-6935 ckm+01        05:35     2 ...     2 mfl+06    93.7     4 mfl+06\n",
       "  179   J0537-69 rcl+13     05:37:43     0 ...    20 rcl+13   273.0     1 rcl+13\n",
       "  182 J0540-6919  shh84 05:40:11.202     9 ...    18  fak15   146.5     2   jr03\n",
       "  183 J0540-7125 lml+98   05:40:30.8     3 ...     3 dsb+98   29.41     7 dsb+98\n",
       "  184   J0542-68 rcl+13     05:42:35     0 ...    72 rcl+13   114.0     5 rcl+13\n",
       "  186 J0543-6851 mfl+06  05:43:52.71    11 ...     6 mfl+06   131.0     4 mfl+06\n",
       "  191 J0555-7056 mfl+06  05:55:01.85    12 ...     7 mfl+06    73.4    16 mfl+06"
      ]
     },
     "execution_count": 20,
     "metadata": {},
     "output_type": "execute_result"
    }
   ],
   "source": [
    "DMs[close_to_lmc]"
   ]
  },
  {
   "cell_type": "code",
   "execution_count": null,
   "metadata": {
    "collapsed": true
   },
   "outputs": [],
   "source": []
  }
 ],
 "metadata": {
  "kernelspec": {
   "display_name": "Python 3",
   "language": "python",
   "name": "python3"
  },
  "language_info": {
   "codemirror_mode": {
    "name": "ipython",
    "version": 3
   },
   "file_extension": ".py",
   "mimetype": "text/x-python",
   "name": "python",
   "nbconvert_exporter": "python",
   "pygments_lexer": "ipython3",
   "version": "3.6.3"
  }
 },
 "nbformat": 4,
 "nbformat_minor": 2
}
